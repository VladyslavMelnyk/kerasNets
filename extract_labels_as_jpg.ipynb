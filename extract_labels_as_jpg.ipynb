{
 "cells": [
  {
   "cell_type": "code",
   "execution_count": 1,
   "metadata": {},
   "outputs": [
    {
     "name": "stderr",
     "output_type": "stream",
     "text": [
      "/home/ubuntu/anaconda3/envs/tensorflow_p27/lib/python2.7/site-packages/matplotlib/__init__.py:1067: UserWarning: Duplicate key in file \"/home/ubuntu/.config/matplotlib/matplotlibrc\", line #2\n",
      "  (fname, cnt))\n",
      "/home/ubuntu/anaconda3/envs/tensorflow_p27/lib/python2.7/site-packages/matplotlib/__init__.py:1067: UserWarning: Duplicate key in file \"/home/ubuntu/.config/matplotlib/matplotlibrc\", line #3\n",
      "  (fname, cnt))\n",
      "/home/ubuntu/anaconda3/envs/tensorflow_p27/lib/python2.7/site-packages/h5py/__init__.py:36: FutureWarning: Conversion of the second argument of issubdtype from `float` to `np.floating` is deprecated. In future, it will be treated as `np.float64 == np.dtype(float).type`.\n",
      "  from ._conv import register_converters as _register_converters\n",
      "Using TensorFlow backend.\n"
     ]
    }
   ],
   "source": [
    "import matplotlib.pyplot as plt\n",
    "from datasets.sku_dataset import *"
   ]
  },
  {
   "cell_type": "code",
   "execution_count": 7,
   "metadata": {},
   "outputs": [
    {
     "name": "stdout",
     "output_type": "stream",
     "text": [
      "mkdir: cannot create directory ‘/’: File exists\r\n"
     ]
    }
   ],
   "source": [
    "annot_folder = annotation_folder\n",
    "img_folder = image_folder\n",
    "imglist = train\n",
    "!mkdir $obj_path/$cls"
   ]
  },
  {
   "cell_type": "code",
   "execution_count": 9,
   "metadata": {},
   "outputs": [
    {
     "name": "stdout",
     "output_type": "stream",
     "text": [
      "Processing file 20289036_Photo0\n",
      "Processing file 20289154_Photo0\n",
      "Processing file 20289210_Photo0\n",
      "Processing file 20289412_Photo3\n",
      "Processing file 20296706_Photo0\n"
     ]
    }
   ],
   "source": [
    "for i, file in enumerate(imglist):\n",
    "        print \"Processing file {}\".format(str(file))\n",
    "        img = os.path.join(img_folder, file + \".jpg\")\n",
    "        img = cv2.imread(img, cv2.IMREAD_IGNORE_ORIENTATION | cv2.IMREAD_COLOR)\n",
    "        annot_file = os.path.join(annot_folder, file + \".xml\")\n",
    "        tree = ET.parse(annot_file)\n",
    "        for j,obj in enumerate(tree.findall('object')):\n",
    "            if obj.find('deleted') == True and int(obj.find('deleted').text) == 1:\n",
    "                continue\n",
    "            else:\n",
    "                bbox = obj.find('bndbox')\n",
    "                cls = classes[classes.index(obj.find('name').text.lower().strip())]\n",
    "                x1 = int(bbox.find('xmin').text)\n",
    "                y1 = int(bbox.find('ymin').text)\n",
    "                x2 = int(bbox.find('xmax').text)\n",
    "                y2 = int(bbox.find('ymax').text)\n",
    "                obj_img = img[y1:y2, x1:x2]\n",
    "                cv2.imwrite(os.path.join(data_folder, cls, \"{}{}.jpg\".format(file,j)), obj_img)\n",
    "                #plt.imshow(obj_img,cmap='gray')\n",
    "                #plt.show()\n",
    "        "
   ]
  },
  {
   "cell_type": "code",
   "execution_count": null,
   "metadata": {},
   "outputs": [],
   "source": []
  }
 ],
 "metadata": {
  "kernelspec": {
   "display_name": "Python [conda env:tensorflow_p27]",
   "language": "python",
   "name": "conda-env-tensorflow_p27-py"
  },
  "language_info": {
   "codemirror_mode": {
    "name": "ipython",
    "version": 2
   },
   "file_extension": ".py",
   "mimetype": "text/x-python",
   "name": "python",
   "nbconvert_exporter": "python",
   "pygments_lexer": "ipython2",
   "version": "2.7.14"
  }
 },
 "nbformat": 4,
 "nbformat_minor": 2
}
